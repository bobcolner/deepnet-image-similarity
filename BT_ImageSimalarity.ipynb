{
 "cells": [
  {
   "cell_type": "code",
   "execution_count": 1,
   "metadata": {
    "collapsed": false
   },
   "outputs": [],
   "source": [
    "import graphlab\n",
    "import pandas as pd"
   ]
  },
  {
   "cell_type": "code",
   "execution_count": 2,
   "metadata": {
    "collapsed": false
   },
   "outputs": [],
   "source": [
    "# load image urls from file\n",
    "# image_url_df = pd.read_csv(\"themenswearsite_image_urls.csv\")\n",
    "image_url_df = pd.read_csv(\"amazon_image_urls.csv\")"
   ]
  },
  {
   "cell_type": "code",
   "execution_count": 4,
   "metadata": {
    "collapsed": false,
    "scrolled": true
   },
   "outputs": [
    {
     "name": "stderr",
     "output_type": "stream",
     "text": [
      "2016-03-10 10:25:42,049 [INFO] graphlab.cython.cy_server, 176: GraphLab Create v1.8.4 started. Logging: /tmp/graphlab_server_1457634339.log\n"
     ]
    },
    {
     "data": {
      "text/html": [
       "<pre>Downloading http://ecx.images-amazon.com/images/I/41PS6nLtWVL._SL246_SX190_CR0,0,190,246_.jpg to /var/tmp/graphlab-bobcolner/30343/674716df-7856-4e30-86cf-dd0447e16be4.jpg</pre>"
      ],
      "text/plain": [
       "Downloading http://ecx.images-amazon.com/images/I/41PS6nLtWVL._SL246_SX190_CR0,0,190,246_.jpg to /var/tmp/graphlab-bobcolner/30343/674716df-7856-4e30-86cf-dd0447e16be4.jpg"
      ]
     },
     "metadata": {},
     "output_type": "display_data"
    },
    {
     "data": {
      "text/html": [
       "<pre>Downloading http://ecx.images-amazon.com/images/I/41jAiix-3hL._SL246_SX190_CR0,0,190,246_.jpg to /var/tmp/graphlab-bobcolner/30343/09b08a57-8dbf-47b1-a414-beeeaa14b429.jpg</pre>"
      ],
      "text/plain": [
       "Downloading http://ecx.images-amazon.com/images/I/41jAiix-3hL._SL246_SX190_CR0,0,190,246_.jpg to /var/tmp/graphlab-bobcolner/30343/09b08a57-8dbf-47b1-a414-beeeaa14b429.jpg"
      ]
     },
     "metadata": {},
     "output_type": "display_data"
    },
    {
     "data": {
      "text/html": [
       "<pre>Downloading http://ecx.images-amazon.com/images/I/41T+HZfQPsL._SL246_SX190_CR0,0,190,246_.jpg to /var/tmp/graphlab-bobcolner/30343/d221f2e0-a823-464e-b1c8-5cb3f5e8bacb.jpg</pre>"
      ],
      "text/plain": [
       "Downloading http://ecx.images-amazon.com/images/I/41T+HZfQPsL._SL246_SX190_CR0,0,190,246_.jpg to /var/tmp/graphlab-bobcolner/30343/d221f2e0-a823-464e-b1c8-5cb3f5e8bacb.jpg"
      ]
     },
     "metadata": {},
     "output_type": "display_data"
    },
    {
     "data": {
      "text/html": [
       "<pre>Downloading http://ecx.images-amazon.com/images/I/41bQvVA8niL._SL246_SX190_CR0,0,190,246_.jpg to /var/tmp/graphlab-bobcolner/30343/59230c3f-ed21-48d9-a21a-0a64fa08985b.jpg</pre>"
      ],
      "text/plain": [
       "Downloading http://ecx.images-amazon.com/images/I/41bQvVA8niL._SL246_SX190_CR0,0,190,246_.jpg to /var/tmp/graphlab-bobcolner/30343/59230c3f-ed21-48d9-a21a-0a64fa08985b.jpg"
      ]
     },
     "metadata": {},
     "output_type": "display_data"
    },
    {
     "data": {
      "text/html": [
       "<pre>Downloading http://ecx.images-amazon.com/images/I/41+QmV0qpgL._SL246_SX190_CR0,0,190,246_.jpg to /var/tmp/graphlab-bobcolner/30343/bf427564-813c-48f4-a0fd-09ae95a0dc25.jpg</pre>"
      ],
      "text/plain": [
       "Downloading http://ecx.images-amazon.com/images/I/41+QmV0qpgL._SL246_SX190_CR0,0,190,246_.jpg to /var/tmp/graphlab-bobcolner/30343/bf427564-813c-48f4-a0fd-09ae95a0dc25.jpg"
      ]
     },
     "metadata": {},
     "output_type": "display_data"
    },
    {
     "data": {
      "text/html": [
       "<pre>Downloading http://ecx.images-amazon.com/images/I/41nlIQVjxPL._SL246_SX190_CR0,0,190,246_.jpg to /var/tmp/graphlab-bobcolner/30343/617b5880-944a-40f6-abc5-504bfa36bf11.jpg</pre>"
      ],
      "text/plain": [
       "Downloading http://ecx.images-amazon.com/images/I/41nlIQVjxPL._SL246_SX190_CR0,0,190,246_.jpg to /var/tmp/graphlab-bobcolner/30343/617b5880-944a-40f6-abc5-504bfa36bf11.jpg"
      ]
     },
     "metadata": {},
     "output_type": "display_data"
    },
    {
     "data": {
      "text/html": [
       "<pre>Downloading http://ecx.images-amazon.com/images/I/41vG4aZu01L._SL246_SX190_CR0,0,190,246_.jpg to /var/tmp/graphlab-bobcolner/30343/93201b37-e171-48a3-bb56-3fb8ec7d77b1.jpg</pre>"
      ],
      "text/plain": [
       "Downloading http://ecx.images-amazon.com/images/I/41vG4aZu01L._SL246_SX190_CR0,0,190,246_.jpg to /var/tmp/graphlab-bobcolner/30343/93201b37-e171-48a3-bb56-3fb8ec7d77b1.jpg"
      ]
     },
     "metadata": {},
     "output_type": "display_data"
    },
    {
     "data": {
      "text/html": [
       "<pre>Downloading http://ecx.images-amazon.com/images/I/31HR6yM9+dL._SL246_SX190_CR0,0,190,246_.jpg to /var/tmp/graphlab-bobcolner/30343/1006a66a-d7e6-4b16-9cb3-2f9f64d831d2.jpg</pre>"
      ],
      "text/plain": [
       "Downloading http://ecx.images-amazon.com/images/I/31HR6yM9+dL._SL246_SX190_CR0,0,190,246_.jpg to /var/tmp/graphlab-bobcolner/30343/1006a66a-d7e6-4b16-9cb3-2f9f64d831d2.jpg"
      ]
     },
     "metadata": {},
     "output_type": "display_data"
    },
    {
     "data": {
      "text/html": [
       "<pre>Downloading http://ecx.images-amazon.com/images/I/41a2ew-yx6L._SL246_SX190_CR0,0,190,246_.jpg to /var/tmp/graphlab-bobcolner/30343/541e48b8-b58c-46a7-ad01-3ecc5bdd6968.jpg</pre>"
      ],
      "text/plain": [
       "Downloading http://ecx.images-amazon.com/images/I/41a2ew-yx6L._SL246_SX190_CR0,0,190,246_.jpg to /var/tmp/graphlab-bobcolner/30343/541e48b8-b58c-46a7-ad01-3ecc5bdd6968.jpg"
      ]
     },
     "metadata": {},
     "output_type": "display_data"
    },
    {
     "data": {
      "text/html": [
       "<pre>Downloading http://ecx.images-amazon.com/images/I/41e3n4R8cUL._SL246_SX190_CR0,0,190,246_.jpg to /var/tmp/graphlab-bobcolner/30343/c1b7ce51-6774-4c5f-a52b-86a0e3f6b3c8.jpg</pre>"
      ],
      "text/plain": [
       "Downloading http://ecx.images-amazon.com/images/I/41e3n4R8cUL._SL246_SX190_CR0,0,190,246_.jpg to /var/tmp/graphlab-bobcolner/30343/c1b7ce51-6774-4c5f-a52b-86a0e3f6b3c8.jpg"
      ]
     },
     "metadata": {},
     "output_type": "display_data"
    },
    {
     "data": {
      "text/html": [
       "<pre>Downloading http://ecx.images-amazon.com/images/I/41BuAlCVpzL._SL246_SX190_CR0,0,190,246_.jpg to /var/tmp/graphlab-bobcolner/30343/be7e2607-2423-46fb-845b-cf8ffe38712b.jpg</pre>"
      ],
      "text/plain": [
       "Downloading http://ecx.images-amazon.com/images/I/41BuAlCVpzL._SL246_SX190_CR0,0,190,246_.jpg to /var/tmp/graphlab-bobcolner/30343/be7e2607-2423-46fb-845b-cf8ffe38712b.jpg"
      ]
     },
     "metadata": {},
     "output_type": "display_data"
    },
    {
     "data": {
      "text/html": [
       "<pre>Downloading http://ecx.images-amazon.com/images/I/41hMJ6tJzHL._SL246_SX190_CR0,0,190,246_.jpg to /var/tmp/graphlab-bobcolner/30343/098e3384-29aa-4381-8072-1411fc923c5a.jpg</pre>"
      ],
      "text/plain": [
       "Downloading http://ecx.images-amazon.com/images/I/41hMJ6tJzHL._SL246_SX190_CR0,0,190,246_.jpg to /var/tmp/graphlab-bobcolner/30343/098e3384-29aa-4381-8072-1411fc923c5a.jpg"
      ]
     },
     "metadata": {},
     "output_type": "display_data"
    },
    {
     "data": {
      "text/html": [
       "<pre>Downloading http://ecx.images-amazon.com/images/I/417D8drE+mL._SL246_SX190_CR0,0,190,246_.jpg to /var/tmp/graphlab-bobcolner/30343/d92c4e13-4efb-4048-a911-4ec7d2bf198b.jpg</pre>"
      ],
      "text/plain": [
       "Downloading http://ecx.images-amazon.com/images/I/417D8drE+mL._SL246_SX190_CR0,0,190,246_.jpg to /var/tmp/graphlab-bobcolner/30343/d92c4e13-4efb-4048-a911-4ec7d2bf198b.jpg"
      ]
     },
     "metadata": {},
     "output_type": "display_data"
    },
    {
     "data": {
      "text/html": [
       "<pre>Downloading http://ecx.images-amazon.com/images/I/41R8M4LnL0L._SL246_SX190_CR0,0,190,246_.jpg to /var/tmp/graphlab-bobcolner/30343/7a0eee42-6fdf-41cf-b168-c218f9fe049b.jpg</pre>"
      ],
      "text/plain": [
       "Downloading http://ecx.images-amazon.com/images/I/41R8M4LnL0L._SL246_SX190_CR0,0,190,246_.jpg to /var/tmp/graphlab-bobcolner/30343/7a0eee42-6fdf-41cf-b168-c218f9fe049b.jpg"
      ]
     },
     "metadata": {},
     "output_type": "display_data"
    },
    {
     "data": {
      "text/html": [
       "<pre>Downloading http://ecx.images-amazon.com/images/I/414s9778w3L._SL246_SX190_CR0,0,190,246_.jpg to /var/tmp/graphlab-bobcolner/30343/82a7e94b-9dbd-4627-a1ef-cf76912db278.jpg</pre>"
      ],
      "text/plain": [
       "Downloading http://ecx.images-amazon.com/images/I/414s9778w3L._SL246_SX190_CR0,0,190,246_.jpg to /var/tmp/graphlab-bobcolner/30343/82a7e94b-9dbd-4627-a1ef-cf76912db278.jpg"
      ]
     },
     "metadata": {},
     "output_type": "display_data"
    },
    {
     "data": {
      "text/html": [
       "<pre>Downloading http://ecx.images-amazon.com/images/I/41IM7a59PZL._SL246_SX190_CR0,0,190,246_.jpg to /var/tmp/graphlab-bobcolner/30343/9a3ac76a-4c5b-41cd-a6bf-7e70c4f7e594.jpg</pre>"
      ],
      "text/plain": [
       "Downloading http://ecx.images-amazon.com/images/I/41IM7a59PZL._SL246_SX190_CR0,0,190,246_.jpg to /var/tmp/graphlab-bobcolner/30343/9a3ac76a-4c5b-41cd-a6bf-7e70c4f7e594.jpg"
      ]
     },
     "metadata": {},
     "output_type": "display_data"
    },
    {
     "data": {
      "text/html": [
       "<pre>Downloading http://ecx.images-amazon.com/images/I/41OLl37DzQL._SL246_SX190_CR0,0,190,246_.jpg to /var/tmp/graphlab-bobcolner/30343/4b23dcc6-6c86-48b4-bc56-f4df66f2e600.jpg</pre>"
      ],
      "text/plain": [
       "Downloading http://ecx.images-amazon.com/images/I/41OLl37DzQL._SL246_SX190_CR0,0,190,246_.jpg to /var/tmp/graphlab-bobcolner/30343/4b23dcc6-6c86-48b4-bc56-f4df66f2e600.jpg"
      ]
     },
     "metadata": {},
     "output_type": "display_data"
    },
    {
     "data": {
      "text/html": [
       "<pre>Downloading http://ecx.images-amazon.com/images/I/41jMRDGL7tL._SL246_SX190_CR0,0,190,246_.jpg to /var/tmp/graphlab-bobcolner/30343/7c8ffccd-bc8e-4be4-86ae-512ce6a3c004.jpg</pre>"
      ],
      "text/plain": [
       "Downloading http://ecx.images-amazon.com/images/I/41jMRDGL7tL._SL246_SX190_CR0,0,190,246_.jpg to /var/tmp/graphlab-bobcolner/30343/7c8ffccd-bc8e-4be4-86ae-512ce6a3c004.jpg"
      ]
     },
     "metadata": {},
     "output_type": "display_data"
    },
    {
     "data": {
      "text/html": [
       "<pre>Downloading http://ecx.images-amazon.com/images/I/41EdiemazcL._SL246_SX190_CR0,0,190,246_.jpg to /var/tmp/graphlab-bobcolner/30343/6da949d0-18ff-4c43-800c-691e76efc028.jpg</pre>"
      ],
      "text/plain": [
       "Downloading http://ecx.images-amazon.com/images/I/41EdiemazcL._SL246_SX190_CR0,0,190,246_.jpg to /var/tmp/graphlab-bobcolner/30343/6da949d0-18ff-4c43-800c-691e76efc028.jpg"
      ]
     },
     "metadata": {},
     "output_type": "display_data"
    },
    {
     "data": {
      "text/html": [
       "<pre>Downloading http://ecx.images-amazon.com/images/I/411Xvun5kwL._SL246_SX190_CR0,0,190,246_.jpg to /var/tmp/graphlab-bobcolner/30343/d43fec13-5904-4b0b-bc9b-ec7d6a018b37.jpg</pre>"
      ],
      "text/plain": [
       "Downloading http://ecx.images-amazon.com/images/I/411Xvun5kwL._SL246_SX190_CR0,0,190,246_.jpg to /var/tmp/graphlab-bobcolner/30343/d43fec13-5904-4b0b-bc9b-ec7d6a018b37.jpg"
      ]
     },
     "metadata": {},
     "output_type": "display_data"
    },
    {
     "data": {
      "text/html": [
       "<pre>Downloading http://ecx.images-amazon.com/images/I/41L8n8ZjdWL._SL246_SX190_CR0,0,190,246_.jpg to /var/tmp/graphlab-bobcolner/30343/b41aa1e9-a9bf-4e2b-b021-9acfa348b531.jpg</pre>"
      ],
      "text/plain": [
       "Downloading http://ecx.images-amazon.com/images/I/41L8n8ZjdWL._SL246_SX190_CR0,0,190,246_.jpg to /var/tmp/graphlab-bobcolner/30343/b41aa1e9-a9bf-4e2b-b021-9acfa348b531.jpg"
      ]
     },
     "metadata": {},
     "output_type": "display_data"
    },
    {
     "data": {
      "text/html": [
       "<pre>Downloading http://ecx.images-amazon.com/images/I/41mpZZ4YieL._SL246_SX190_CR0,0,190,246_.jpg to /var/tmp/graphlab-bobcolner/30343/8625f006-5923-4ac9-8edf-8663e4609fd9.jpg</pre>"
      ],
      "text/plain": [
       "Downloading http://ecx.images-amazon.com/images/I/41mpZZ4YieL._SL246_SX190_CR0,0,190,246_.jpg to /var/tmp/graphlab-bobcolner/30343/8625f006-5923-4ac9-8edf-8663e4609fd9.jpg"
      ]
     },
     "metadata": {},
     "output_type": "display_data"
    },
    {
     "data": {
      "text/html": [
       "<pre>Downloading http://ecx.images-amazon.com/images/I/41OLw7lq4VL._SL246_SX190_CR0,0,190,246_.jpg to /var/tmp/graphlab-bobcolner/30343/6a02eccc-a503-4274-8182-a7d41f1618e0.jpg</pre>"
      ],
      "text/plain": [
       "Downloading http://ecx.images-amazon.com/images/I/41OLw7lq4VL._SL246_SX190_CR0,0,190,246_.jpg to /var/tmp/graphlab-bobcolner/30343/6a02eccc-a503-4274-8182-a7d41f1618e0.jpg"
      ]
     },
     "metadata": {},
     "output_type": "display_data"
    },
    {
     "data": {
      "text/html": [
       "<pre>Downloading http://ecx.images-amazon.com/images/I/41MMOsvHvEL._SL246_SX190_CR0,0,190,246_.jpg to /var/tmp/graphlab-bobcolner/30343/b4397238-4354-44b2-9ff3-776466afdd15.jpg</pre>"
      ],
      "text/plain": [
       "Downloading http://ecx.images-amazon.com/images/I/41MMOsvHvEL._SL246_SX190_CR0,0,190,246_.jpg to /var/tmp/graphlab-bobcolner/30343/b4397238-4354-44b2-9ff3-776466afdd15.jpg"
      ]
     },
     "metadata": {},
     "output_type": "display_data"
    },
    {
     "data": {
      "text/html": [
       "<pre>Downloading http://ecx.images-amazon.com/images/I/41syFrmltAL._SL246_SX190_CR0,0,190,246_.jpg to /var/tmp/graphlab-bobcolner/30343/ba3593f1-f753-438d-9eba-39a13bb96a10.jpg</pre>"
      ],
      "text/plain": [
       "Downloading http://ecx.images-amazon.com/images/I/41syFrmltAL._SL246_SX190_CR0,0,190,246_.jpg to /var/tmp/graphlab-bobcolner/30343/ba3593f1-f753-438d-9eba-39a13bb96a10.jpg"
      ]
     },
     "metadata": {},
     "output_type": "display_data"
    },
    {
     "data": {
      "text/html": [
       "<pre>Downloading http://ecx.images-amazon.com/images/I/41P8Z8gItqL._SL246_SX190_CR0,0,190,246_.jpg to /var/tmp/graphlab-bobcolner/30343/badb5400-7848-421d-bcbb-30c10022b8a5.jpg</pre>"
      ],
      "text/plain": [
       "Downloading http://ecx.images-amazon.com/images/I/41P8Z8gItqL._SL246_SX190_CR0,0,190,246_.jpg to /var/tmp/graphlab-bobcolner/30343/badb5400-7848-421d-bcbb-30c10022b8a5.jpg"
      ]
     },
     "metadata": {},
     "output_type": "display_data"
    },
    {
     "data": {
      "text/html": [
       "<pre>Downloading http://ecx.images-amazon.com/images/I/41Kz3oBF3jL._SL246_SX190_CR0,0,190,246_.jpg to /var/tmp/graphlab-bobcolner/30343/0a463e6f-728b-4781-841f-ff801c8cb166.jpg</pre>"
      ],
      "text/plain": [
       "Downloading http://ecx.images-amazon.com/images/I/41Kz3oBF3jL._SL246_SX190_CR0,0,190,246_.jpg to /var/tmp/graphlab-bobcolner/30343/0a463e6f-728b-4781-841f-ff801c8cb166.jpg"
      ]
     },
     "metadata": {},
     "output_type": "display_data"
    },
    {
     "data": {
      "text/html": [
       "<pre>Downloading http://ecx.images-amazon.com/images/I/414ocALyVML._SL246_SX190_CR0,0,190,246_.jpg to /var/tmp/graphlab-bobcolner/30343/84ac32d6-464f-416c-8bce-23577bab2cb4.jpg</pre>"
      ],
      "text/plain": [
       "Downloading http://ecx.images-amazon.com/images/I/414ocALyVML._SL246_SX190_CR0,0,190,246_.jpg to /var/tmp/graphlab-bobcolner/30343/84ac32d6-464f-416c-8bce-23577bab2cb4.jpg"
      ]
     },
     "metadata": {},
     "output_type": "display_data"
    },
    {
     "data": {
      "text/html": [
       "<pre>Downloading http://ecx.images-amazon.com/images/I/41J-JHblz0L._SL246_SX190_CR0,0,190,246_.jpg to /var/tmp/graphlab-bobcolner/30343/6de7933a-aa6d-4a98-9df5-30a17d288e31.jpg</pre>"
      ],
      "text/plain": [
       "Downloading http://ecx.images-amazon.com/images/I/41J-JHblz0L._SL246_SX190_CR0,0,190,246_.jpg to /var/tmp/graphlab-bobcolner/30343/6de7933a-aa6d-4a98-9df5-30a17d288e31.jpg"
      ]
     },
     "metadata": {},
     "output_type": "display_data"
    },
    {
     "data": {
      "text/html": [
       "<pre>Downloading http://ecx.images-amazon.com/images/I/41XkfqXUwZL._SL246_SX190_CR0,0,190,246_.jpg to /var/tmp/graphlab-bobcolner/30343/bcd20e0e-0113-4dff-8fb1-753c7de7cf69.jpg</pre>"
      ],
      "text/plain": [
       "Downloading http://ecx.images-amazon.com/images/I/41XkfqXUwZL._SL246_SX190_CR0,0,190,246_.jpg to /var/tmp/graphlab-bobcolner/30343/bcd20e0e-0113-4dff-8fb1-753c7de7cf69.jpg"
      ]
     },
     "metadata": {},
     "output_type": "display_data"
    },
    {
     "data": {
      "text/html": [
       "<pre>Downloading http://ecx.images-amazon.com/images/I/31z+Al5nmhL._SL246_SX190_CR0,0,190,246_.jpg to /var/tmp/graphlab-bobcolner/30343/b2255a1f-8ee3-446a-a910-48ee548f8b47.jpg</pre>"
      ],
      "text/plain": [
       "Downloading http://ecx.images-amazon.com/images/I/31z+Al5nmhL._SL246_SX190_CR0,0,190,246_.jpg to /var/tmp/graphlab-bobcolner/30343/b2255a1f-8ee3-446a-a910-48ee548f8b47.jpg"
      ]
     },
     "metadata": {},
     "output_type": "display_data"
    },
    {
     "data": {
      "text/html": [
       "<pre>Downloading http://ecx.images-amazon.com/images/I/51PN3xDeIHL._SL246_SX190_CR0,0,190,246_.jpg to /var/tmp/graphlab-bobcolner/30343/a08cb289-402d-426c-a033-226fb0c0cacd.jpg</pre>"
      ],
      "text/plain": [
       "Downloading http://ecx.images-amazon.com/images/I/51PN3xDeIHL._SL246_SX190_CR0,0,190,246_.jpg to /var/tmp/graphlab-bobcolner/30343/a08cb289-402d-426c-a033-226fb0c0cacd.jpg"
      ]
     },
     "metadata": {},
     "output_type": "display_data"
    },
    {
     "data": {
      "text/html": [
       "<pre>Downloading http://ecx.images-amazon.com/images/I/41GLHCIvQKL._SL246_SX190_CR0,0,190,246_.jpg to /var/tmp/graphlab-bobcolner/30343/c01b68ae-a9d4-422b-b7f2-6574016cdfca.jpg</pre>"
      ],
      "text/plain": [
       "Downloading http://ecx.images-amazon.com/images/I/41GLHCIvQKL._SL246_SX190_CR0,0,190,246_.jpg to /var/tmp/graphlab-bobcolner/30343/c01b68ae-a9d4-422b-b7f2-6574016cdfca.jpg"
      ]
     },
     "metadata": {},
     "output_type": "display_data"
    },
    {
     "data": {
      "text/html": [
       "<pre>Downloading http://ecx.images-amazon.com/images/I/41rtSCI5AcL._SL246_SX190_CR0,0,190,246_.jpg to /var/tmp/graphlab-bobcolner/30343/5ec4c222-2392-43cd-baf6-2dfe80db7ada.jpg</pre>"
      ],
      "text/plain": [
       "Downloading http://ecx.images-amazon.com/images/I/41rtSCI5AcL._SL246_SX190_CR0,0,190,246_.jpg to /var/tmp/graphlab-bobcolner/30343/5ec4c222-2392-43cd-baf6-2dfe80db7ada.jpg"
      ]
     },
     "metadata": {},
     "output_type": "display_data"
    },
    {
     "data": {
      "text/html": [
       "<pre>Downloading http://ecx.images-amazon.com/images/I/41NC1cirtgL._SL246_SX190_CR0,0,190,246_.jpg to /var/tmp/graphlab-bobcolner/30343/afee46b4-cbcd-474f-8751-e536fcb7844e.jpg</pre>"
      ],
      "text/plain": [
       "Downloading http://ecx.images-amazon.com/images/I/41NC1cirtgL._SL246_SX190_CR0,0,190,246_.jpg to /var/tmp/graphlab-bobcolner/30343/afee46b4-cbcd-474f-8751-e536fcb7844e.jpg"
      ]
     },
     "metadata": {},
     "output_type": "display_data"
    },
    {
     "data": {
      "text/html": [
       "<pre>Downloading http://ecx.images-amazon.com/images/I/41JqS9jzxML._SL246_SX190_CR0,0,190,246_.jpg to /var/tmp/graphlab-bobcolner/30343/b8578bac-a515-49bd-b1b1-ec25afecef9d.jpg</pre>"
      ],
      "text/plain": [
       "Downloading http://ecx.images-amazon.com/images/I/41JqS9jzxML._SL246_SX190_CR0,0,190,246_.jpg to /var/tmp/graphlab-bobcolner/30343/b8578bac-a515-49bd-b1b1-ec25afecef9d.jpg"
      ]
     },
     "metadata": {},
     "output_type": "display_data"
    },
    {
     "data": {
      "text/html": [
       "<pre>Downloading http://ecx.images-amazon.com/images/I/41A4rMqfx9L._SL246_SX190_CR0,0,190,246_.jpg to /var/tmp/graphlab-bobcolner/30343/c5f86b3b-0020-44a3-94fa-465d5a39c54c.jpg</pre>"
      ],
      "text/plain": [
       "Downloading http://ecx.images-amazon.com/images/I/41A4rMqfx9L._SL246_SX190_CR0,0,190,246_.jpg to /var/tmp/graphlab-bobcolner/30343/c5f86b3b-0020-44a3-94fa-465d5a39c54c.jpg"
      ]
     },
     "metadata": {},
     "output_type": "display_data"
    },
    {
     "data": {
      "text/html": [
       "<pre>Downloading http://ecx.images-amazon.com/images/I/41DkU6sDHJL._SL246_SX190_CR0,0,190,246_.jpg to /var/tmp/graphlab-bobcolner/30343/e8849fc1-eae6-4652-89dd-aac95737dfa0.jpg</pre>"
      ],
      "text/plain": [
       "Downloading http://ecx.images-amazon.com/images/I/41DkU6sDHJL._SL246_SX190_CR0,0,190,246_.jpg to /var/tmp/graphlab-bobcolner/30343/e8849fc1-eae6-4652-89dd-aac95737dfa0.jpg"
      ]
     },
     "metadata": {},
     "output_type": "display_data"
    },
    {
     "data": {
      "text/html": [
       "<pre>Downloading http://ecx.images-amazon.com/images/I/41JJg1NcNEL._SL246_SX190_CR0,0,190,246_.jpg to /var/tmp/graphlab-bobcolner/30343/87a43d2f-e061-4ff8-901b-9724359fd8fd.jpg</pre>"
      ],
      "text/plain": [
       "Downloading http://ecx.images-amazon.com/images/I/41JJg1NcNEL._SL246_SX190_CR0,0,190,246_.jpg to /var/tmp/graphlab-bobcolner/30343/87a43d2f-e061-4ff8-901b-9724359fd8fd.jpg"
      ]
     },
     "metadata": {},
     "output_type": "display_data"
    },
    {
     "data": {
      "text/html": [
       "<pre>Downloading http://ecx.images-amazon.com/images/I/41jcwsr3OtL._SL246_SX190_CR0,0,190,246_.jpg to /var/tmp/graphlab-bobcolner/30343/02559db0-7fd1-4fe4-bb2c-00277bc3f0e7.jpg</pre>"
      ],
      "text/plain": [
       "Downloading http://ecx.images-amazon.com/images/I/41jcwsr3OtL._SL246_SX190_CR0,0,190,246_.jpg to /var/tmp/graphlab-bobcolner/30343/02559db0-7fd1-4fe4-bb2c-00277bc3f0e7.jpg"
      ]
     },
     "metadata": {},
     "output_type": "display_data"
    },
    {
     "data": {
      "text/html": [
       "<pre>Downloading http://ecx.images-amazon.com/images/I/41a1o4DSaiL._SL246_SX190_CR0,0,190,246_.jpg to /var/tmp/graphlab-bobcolner/30343/bacd0ad4-f9e4-49bd-b319-89e8f9a857d1.jpg</pre>"
      ],
      "text/plain": [
       "Downloading http://ecx.images-amazon.com/images/I/41a1o4DSaiL._SL246_SX190_CR0,0,190,246_.jpg to /var/tmp/graphlab-bobcolner/30343/bacd0ad4-f9e4-49bd-b319-89e8f9a857d1.jpg"
      ]
     },
     "metadata": {},
     "output_type": "display_data"
    },
    {
     "data": {
      "text/html": [
       "<pre>Downloading http://ecx.images-amazon.com/images/I/51wZxTN+23L._SL246_SX190_CR0,0,190,246_.jpg to /var/tmp/graphlab-bobcolner/30343/c296cd85-676f-4c3a-b5a0-447c5d665b58.jpg</pre>"
      ],
      "text/plain": [
       "Downloading http://ecx.images-amazon.com/images/I/51wZxTN+23L._SL246_SX190_CR0,0,190,246_.jpg to /var/tmp/graphlab-bobcolner/30343/c296cd85-676f-4c3a-b5a0-447c5d665b58.jpg"
      ]
     },
     "metadata": {},
     "output_type": "display_data"
    },
    {
     "data": {
      "text/html": [
       "<pre>Downloading http://ecx.images-amazon.com/images/I/41HUK459d7L._SL246_SX190_CR0,0,190,246_.jpg to /var/tmp/graphlab-bobcolner/30343/ab73d058-80df-4510-aea9-66d1f4e14051.jpg</pre>"
      ],
      "text/plain": [
       "Downloading http://ecx.images-amazon.com/images/I/41HUK459d7L._SL246_SX190_CR0,0,190,246_.jpg to /var/tmp/graphlab-bobcolner/30343/ab73d058-80df-4510-aea9-66d1f4e14051.jpg"
      ]
     },
     "metadata": {},
     "output_type": "display_data"
    },
    {
     "data": {
      "text/html": [
       "<pre>Downloading http://ecx.images-amazon.com/images/I/412jm8M5mvL._SL246_SX190_CR0,0,190,246_.jpg to /var/tmp/graphlab-bobcolner/30343/1641bdcd-cf99-4b61-b45a-23ea13d51a1b.jpg</pre>"
      ],
      "text/plain": [
       "Downloading http://ecx.images-amazon.com/images/I/412jm8M5mvL._SL246_SX190_CR0,0,190,246_.jpg to /var/tmp/graphlab-bobcolner/30343/1641bdcd-cf99-4b61-b45a-23ea13d51a1b.jpg"
      ]
     },
     "metadata": {},
     "output_type": "display_data"
    },
    {
     "data": {
      "text/html": [
       "<pre>Downloading http://ecx.images-amazon.com/images/I/41kVvj-5YXL._SL246_SX190_CR0,0,190,246_.jpg to /var/tmp/graphlab-bobcolner/30343/b072fbcd-05d9-403d-890b-12e962764fb5.jpg</pre>"
      ],
      "text/plain": [
       "Downloading http://ecx.images-amazon.com/images/I/41kVvj-5YXL._SL246_SX190_CR0,0,190,246_.jpg to /var/tmp/graphlab-bobcolner/30343/b072fbcd-05d9-403d-890b-12e962764fb5.jpg"
      ]
     },
     "metadata": {},
     "output_type": "display_data"
    },
    {
     "data": {
      "text/html": [
       "<pre>Downloading http://ecx.images-amazon.com/images/I/51J5XBcW3hL._SL246_SX190_CR0,0,190,246_.jpg to /var/tmp/graphlab-bobcolner/30343/73fa125a-9031-47b9-bef8-012fbf885025.jpg</pre>"
      ],
      "text/plain": [
       "Downloading http://ecx.images-amazon.com/images/I/51J5XBcW3hL._SL246_SX190_CR0,0,190,246_.jpg to /var/tmp/graphlab-bobcolner/30343/73fa125a-9031-47b9-bef8-012fbf885025.jpg"
      ]
     },
     "metadata": {},
     "output_type": "display_data"
    },
    {
     "data": {
      "text/html": [
       "<pre>Downloading http://ecx.images-amazon.com/images/I/4194Q+YknbL._SL190_SY246_CR0,0,190,246_.jpg to /var/tmp/graphlab-bobcolner/30343/b85e8132-754b-45f6-8715-eeb203c89ba6.jpg</pre>"
      ],
      "text/plain": [
       "Downloading http://ecx.images-amazon.com/images/I/4194Q+YknbL._SL190_SY246_CR0,0,190,246_.jpg to /var/tmp/graphlab-bobcolner/30343/b85e8132-754b-45f6-8715-eeb203c89ba6.jpg"
      ]
     },
     "metadata": {},
     "output_type": "display_data"
    },
    {
     "data": {
      "text/html": [
       "<pre>Downloading http://ecx.images-amazon.com/images/I/41N3TuZKmiL._SL190_SY246_CR0,0,190,246_.jpg to /var/tmp/graphlab-bobcolner/30343/b5fed94b-3a5d-47ed-9729-9bb44a070f72.jpg</pre>"
      ],
      "text/plain": [
       "Downloading http://ecx.images-amazon.com/images/I/41N3TuZKmiL._SL190_SY246_CR0,0,190,246_.jpg to /var/tmp/graphlab-bobcolner/30343/b5fed94b-3a5d-47ed-9729-9bb44a070f72.jpg"
      ]
     },
     "metadata": {},
     "output_type": "display_data"
    },
    {
     "data": {
      "text/html": [
       "<pre>Downloading http://ecx.images-amazon.com/images/I/41paanNqbyL._SL190_CR0,0,190,246_.jpg to /var/tmp/graphlab-bobcolner/30343/0b8bc821-fbf8-4752-bf51-09523d7a9ec1.jpg</pre>"
      ],
      "text/plain": [
       "Downloading http://ecx.images-amazon.com/images/I/41paanNqbyL._SL190_CR0,0,190,246_.jpg to /var/tmp/graphlab-bobcolner/30343/0b8bc821-fbf8-4752-bf51-09523d7a9ec1.jpg"
      ]
     },
     "metadata": {},
     "output_type": "display_data"
    },
    {
     "data": {
      "text/html": [
       "<pre>Downloading http://ecx.images-amazon.com/images/I/51kpS9lkQoL._SL190_SY246_CR0,0,190,246_.jpg to /var/tmp/graphlab-bobcolner/30343/7b556ed3-bd7b-4179-acfc-1c2a4989c508.jpg</pre>"
      ],
      "text/plain": [
       "Downloading http://ecx.images-amazon.com/images/I/51kpS9lkQoL._SL190_SY246_CR0,0,190,246_.jpg to /var/tmp/graphlab-bobcolner/30343/7b556ed3-bd7b-4179-acfc-1c2a4989c508.jpg"
      ]
     },
     "metadata": {},
     "output_type": "display_data"
    },
    {
     "data": {
      "text/html": [
       "<pre>Downloading http://ecx.images-amazon.com/images/I/41HmZIc8DlL._SL190_SY246_CR0,0,190,246_.jpg to /var/tmp/graphlab-bobcolner/30343/83d51ca5-ba4d-4c2c-80dd-f38b4a313ac5.jpg</pre>"
      ],
      "text/plain": [
       "Downloading http://ecx.images-amazon.com/images/I/41HmZIc8DlL._SL190_SY246_CR0,0,190,246_.jpg to /var/tmp/graphlab-bobcolner/30343/83d51ca5-ba4d-4c2c-80dd-f38b4a313ac5.jpg"
      ]
     },
     "metadata": {},
     "output_type": "display_data"
    },
    {
     "data": {
      "text/html": [
       "<pre>Downloading http://ecx.images-amazon.com/images/I/411O505ML4L._SL190_CR0,0,190,246_.jpg to /var/tmp/graphlab-bobcolner/30343/e93f176a-0c61-44b8-8a1c-70d1b2afae47.jpg</pre>"
      ],
      "text/plain": [
       "Downloading http://ecx.images-amazon.com/images/I/411O505ML4L._SL190_CR0,0,190,246_.jpg to /var/tmp/graphlab-bobcolner/30343/e93f176a-0c61-44b8-8a1c-70d1b2afae47.jpg"
      ]
     },
     "metadata": {},
     "output_type": "display_data"
    },
    {
     "data": {
      "text/html": [
       "<pre>Downloading http://ecx.images-amazon.com/images/I/411PnIap6LL._SL190_CR0,0,190,246_.jpg to /var/tmp/graphlab-bobcolner/30343/9dbde616-51d8-4ba7-8a4e-8a901bddd6b9.jpg</pre>"
      ],
      "text/plain": [
       "Downloading http://ecx.images-amazon.com/images/I/411PnIap6LL._SL190_CR0,0,190,246_.jpg to /var/tmp/graphlab-bobcolner/30343/9dbde616-51d8-4ba7-8a4e-8a901bddd6b9.jpg"
      ]
     },
     "metadata": {},
     "output_type": "display_data"
    },
    {
     "data": {
      "text/html": [
       "<pre>Downloading http://ecx.images-amazon.com/images/I/51WJ41QpfYL._SL190_SY246_CR0,0,190,246_.jpg to /var/tmp/graphlab-bobcolner/30343/7416343c-d20c-4c63-a086-a4dcd48f125e.jpg</pre>"
      ],
      "text/plain": [
       "Downloading http://ecx.images-amazon.com/images/I/51WJ41QpfYL._SL190_SY246_CR0,0,190,246_.jpg to /var/tmp/graphlab-bobcolner/30343/7416343c-d20c-4c63-a086-a4dcd48f125e.jpg"
      ]
     },
     "metadata": {},
     "output_type": "display_data"
    },
    {
     "data": {
      "text/html": [
       "<pre>Downloading http://ecx.images-amazon.com/images/I/31qgRX-E9qL._SL246_SX190_CR0,0,190,246_.jpg to /var/tmp/graphlab-bobcolner/30343/5ad1da17-2d81-4f0e-991f-7c09bc84e58a.jpg</pre>"
      ],
      "text/plain": [
       "Downloading http://ecx.images-amazon.com/images/I/31qgRX-E9qL._SL246_SX190_CR0,0,190,246_.jpg to /var/tmp/graphlab-bobcolner/30343/5ad1da17-2d81-4f0e-991f-7c09bc84e58a.jpg"
      ]
     },
     "metadata": {},
     "output_type": "display_data"
    },
    {
     "data": {
      "text/html": [
       "<pre>Downloading http://ecx.images-amazon.com/images/I/41aReP0qXaL._SL246_SX190_CR0,0,190,246_.jpg to /var/tmp/graphlab-bobcolner/30343/b0770093-c018-4a29-84ab-e7378178ae44.jpg</pre>"
      ],
      "text/plain": [
       "Downloading http://ecx.images-amazon.com/images/I/41aReP0qXaL._SL246_SX190_CR0,0,190,246_.jpg to /var/tmp/graphlab-bobcolner/30343/b0770093-c018-4a29-84ab-e7378178ae44.jpg"
      ]
     },
     "metadata": {},
     "output_type": "display_data"
    },
    {
     "data": {
      "text/html": [
       "<pre>Downloading http://ecx.images-amazon.com/images/I/31n+5BtnT4L._SL246_SX190_CR0,0,190,246_.jpg to /var/tmp/graphlab-bobcolner/30343/fbde1045-04f6-46a6-9313-31567500d9db.jpg</pre>"
      ],
      "text/plain": [
       "Downloading http://ecx.images-amazon.com/images/I/31n+5BtnT4L._SL246_SX190_CR0,0,190,246_.jpg to /var/tmp/graphlab-bobcolner/30343/fbde1045-04f6-46a6-9313-31567500d9db.jpg"
      ]
     },
     "metadata": {},
     "output_type": "display_data"
    },
    {
     "data": {
      "text/html": [
       "<pre>Downloading http://ecx.images-amazon.com/images/I/41bSZwDP4sL._SL246_SX190_CR0,0,190,246_.jpg to /var/tmp/graphlab-bobcolner/30343/156f486e-9829-4e38-9a6e-4fb281376702.jpg</pre>"
      ],
      "text/plain": [
       "Downloading http://ecx.images-amazon.com/images/I/41bSZwDP4sL._SL246_SX190_CR0,0,190,246_.jpg to /var/tmp/graphlab-bobcolner/30343/156f486e-9829-4e38-9a6e-4fb281376702.jpg"
      ]
     },
     "metadata": {},
     "output_type": "display_data"
    },
    {
     "data": {
      "text/html": [
       "<pre>Downloading http://ecx.images-amazon.com/images/I/41xEvDsE9dL._SL246_SX190_CR0,0,190,246_.jpg to /var/tmp/graphlab-bobcolner/30343/9c004fb8-04d0-45cf-b15a-00733fddf66d.jpg</pre>"
      ],
      "text/plain": [
       "Downloading http://ecx.images-amazon.com/images/I/41xEvDsE9dL._SL246_SX190_CR0,0,190,246_.jpg to /var/tmp/graphlab-bobcolner/30343/9c004fb8-04d0-45cf-b15a-00733fddf66d.jpg"
      ]
     },
     "metadata": {},
     "output_type": "display_data"
    },
    {
     "data": {
      "text/html": [
       "<pre>Downloading http://ecx.images-amazon.com/images/I/31bRwVopDQL._SL246_SX190_CR0,0,190,246_.jpg to /var/tmp/graphlab-bobcolner/30343/0fe2f06e-037f-4f34-bd5c-5f2014d97125.jpg</pre>"
      ],
      "text/plain": [
       "Downloading http://ecx.images-amazon.com/images/I/31bRwVopDQL._SL246_SX190_CR0,0,190,246_.jpg to /var/tmp/graphlab-bobcolner/30343/0fe2f06e-037f-4f34-bd5c-5f2014d97125.jpg"
      ]
     },
     "metadata": {},
     "output_type": "display_data"
    },
    {
     "data": {
      "text/html": [
       "<pre>Downloading http://ecx.images-amazon.com/images/I/41pADLScEnL._SL246_SX190_CR0,0,190,246_.jpg to /var/tmp/graphlab-bobcolner/30343/40b523a2-b8a0-4630-bc4b-c297a6f24957.jpg</pre>"
      ],
      "text/plain": [
       "Downloading http://ecx.images-amazon.com/images/I/41pADLScEnL._SL246_SX190_CR0,0,190,246_.jpg to /var/tmp/graphlab-bobcolner/30343/40b523a2-b8a0-4630-bc4b-c297a6f24957.jpg"
      ]
     },
     "metadata": {},
     "output_type": "display_data"
    },
    {
     "data": {
      "text/html": [
       "<pre>Downloading http://ecx.images-amazon.com/images/I/41zNkO8p2PL._SL246_SX190_CR0,0,190,246_.jpg to /var/tmp/graphlab-bobcolner/30343/fac34a49-2e8f-47b2-8487-ddf62e3e8298.jpg</pre>"
      ],
      "text/plain": [
       "Downloading http://ecx.images-amazon.com/images/I/41zNkO8p2PL._SL246_SX190_CR0,0,190,246_.jpg to /var/tmp/graphlab-bobcolner/30343/fac34a49-2e8f-47b2-8487-ddf62e3e8298.jpg"
      ]
     },
     "metadata": {},
     "output_type": "display_data"
    },
    {
     "data": {
      "text/html": [
       "<pre>Downloading http://ecx.images-amazon.com/images/I/31i0f0i29-L._SL246_SX190_CR0,0,190,246_.jpg to /var/tmp/graphlab-bobcolner/30343/4394719f-0622-441f-beb5-9b53eca517cb.jpg</pre>"
      ],
      "text/plain": [
       "Downloading http://ecx.images-amazon.com/images/I/31i0f0i29-L._SL246_SX190_CR0,0,190,246_.jpg to /var/tmp/graphlab-bobcolner/30343/4394719f-0622-441f-beb5-9b53eca517cb.jpg"
      ]
     },
     "metadata": {},
     "output_type": "display_data"
    },
    {
     "data": {
      "text/html": [
       "<pre>Downloading http://ecx.images-amazon.com/images/I/41vDP9qycRL._SL246_SX190_CR0,0,190,246_.jpg to /var/tmp/graphlab-bobcolner/30343/6101082d-680e-4225-b515-c142d1f999b5.jpg</pre>"
      ],
      "text/plain": [
       "Downloading http://ecx.images-amazon.com/images/I/41vDP9qycRL._SL246_SX190_CR0,0,190,246_.jpg to /var/tmp/graphlab-bobcolner/30343/6101082d-680e-4225-b515-c142d1f999b5.jpg"
      ]
     },
     "metadata": {},
     "output_type": "display_data"
    },
    {
     "data": {
      "text/html": [
       "<pre>Downloading http://ecx.images-amazon.com/images/I/41UQudN4EXL._SL246_SX190_CR0,0,190,246_.jpg to /var/tmp/graphlab-bobcolner/30343/e50aa44d-29f6-4f12-af05-266b85a4e46e.jpg</pre>"
      ],
      "text/plain": [
       "Downloading http://ecx.images-amazon.com/images/I/41UQudN4EXL._SL246_SX190_CR0,0,190,246_.jpg to /var/tmp/graphlab-bobcolner/30343/e50aa44d-29f6-4f12-af05-266b85a4e46e.jpg"
      ]
     },
     "metadata": {},
     "output_type": "display_data"
    },
    {
     "data": {
      "text/html": [
       "<pre>Downloading http://ecx.images-amazon.com/images/I/416Lq6T27GL._SL246_SX190_CR0,0,190,246_.jpg to /var/tmp/graphlab-bobcolner/30343/368c8a79-f7a6-45eb-adae-5ac7be549254.jpg</pre>"
      ],
      "text/plain": [
       "Downloading http://ecx.images-amazon.com/images/I/416Lq6T27GL._SL246_SX190_CR0,0,190,246_.jpg to /var/tmp/graphlab-bobcolner/30343/368c8a79-f7a6-45eb-adae-5ac7be549254.jpg"
      ]
     },
     "metadata": {},
     "output_type": "display_data"
    },
    {
     "data": {
      "text/html": [
       "<pre>Downloading http://ecx.images-amazon.com/images/I/31oKY6op0yL._SL246_SX190_CR0,0,190,246_.jpg to /var/tmp/graphlab-bobcolner/30343/5bc7efc6-f509-4c32-9539-d6274e8d1a69.jpg</pre>"
      ],
      "text/plain": [
       "Downloading http://ecx.images-amazon.com/images/I/31oKY6op0yL._SL246_SX190_CR0,0,190,246_.jpg to /var/tmp/graphlab-bobcolner/30343/5bc7efc6-f509-4c32-9539-d6274e8d1a69.jpg"
      ]
     },
     "metadata": {},
     "output_type": "display_data"
    },
    {
     "data": {
      "text/html": [
       "<pre>Downloading http://ecx.images-amazon.com/images/I/31KR85uvk0L._SL246_SX190_CR0,0,190,246_.jpg to /var/tmp/graphlab-bobcolner/30343/257ef827-55be-4f19-ad8a-4b0c7a2687db.jpg</pre>"
      ],
      "text/plain": [
       "Downloading http://ecx.images-amazon.com/images/I/31KR85uvk0L._SL246_SX190_CR0,0,190,246_.jpg to /var/tmp/graphlab-bobcolner/30343/257ef827-55be-4f19-ad8a-4b0c7a2687db.jpg"
      ]
     },
     "metadata": {},
     "output_type": "display_data"
    },
    {
     "data": {
      "text/html": [
       "<pre>Downloading http://ecx.images-amazon.com/images/I/41lDbHlARrL._SL246_SX190_CR0,0,190,246_.jpg to /var/tmp/graphlab-bobcolner/30343/4fa2f9be-3922-4c75-9e54-e9932a43fa6f.jpg</pre>"
      ],
      "text/plain": [
       "Downloading http://ecx.images-amazon.com/images/I/41lDbHlARrL._SL246_SX190_CR0,0,190,246_.jpg to /var/tmp/graphlab-bobcolner/30343/4fa2f9be-3922-4c75-9e54-e9932a43fa6f.jpg"
      ]
     },
     "metadata": {},
     "output_type": "display_data"
    },
    {
     "data": {
      "text/html": [
       "<pre>Downloading http://ecx.images-amazon.com/images/I/31S1e152h4L._SL246_SX190_CR0,0,190,246_.jpg to /var/tmp/graphlab-bobcolner/30343/8a0dd579-0138-42a4-b4eb-2f271c5d75e0.jpg</pre>"
      ],
      "text/plain": [
       "Downloading http://ecx.images-amazon.com/images/I/31S1e152h4L._SL246_SX190_CR0,0,190,246_.jpg to /var/tmp/graphlab-bobcolner/30343/8a0dd579-0138-42a4-b4eb-2f271c5d75e0.jpg"
      ]
     },
     "metadata": {},
     "output_type": "display_data"
    },
    {
     "data": {
      "text/html": [
       "<pre>Downloading http://ecx.images-amazon.com/images/I/31gLL+h9uaL._SL246_SX190_CR0,0,190,246_.jpg to /var/tmp/graphlab-bobcolner/30343/bbaed01d-b125-40d1-b246-e439832b603c.jpg</pre>"
      ],
      "text/plain": [
       "Downloading http://ecx.images-amazon.com/images/I/31gLL+h9uaL._SL246_SX190_CR0,0,190,246_.jpg to /var/tmp/graphlab-bobcolner/30343/bbaed01d-b125-40d1-b246-e439832b603c.jpg"
      ]
     },
     "metadata": {},
     "output_type": "display_data"
    },
    {
     "data": {
      "text/html": [
       "<pre>Downloading http://ecx.images-amazon.com/images/I/31u4nPX542L._SL246_SX190_CR0,0,190,246_.jpg to /var/tmp/graphlab-bobcolner/30343/d9292220-8f81-4537-a4b8-6b86ff9dde6d.jpg</pre>"
      ],
      "text/plain": [
       "Downloading http://ecx.images-amazon.com/images/I/31u4nPX542L._SL246_SX190_CR0,0,190,246_.jpg to /var/tmp/graphlab-bobcolner/30343/d9292220-8f81-4537-a4b8-6b86ff9dde6d.jpg"
      ]
     },
     "metadata": {},
     "output_type": "display_data"
    },
    {
     "data": {
      "text/html": [
       "<pre>Downloading http://ecx.images-amazon.com/images/I/31PgYIJHsrL._SL246_SX190_CR0,0,190,246_.jpg to /var/tmp/graphlab-bobcolner/30343/57bac1db-c39b-44bd-84d7-19d088c515f3.jpg</pre>"
      ],
      "text/plain": [
       "Downloading http://ecx.images-amazon.com/images/I/31PgYIJHsrL._SL246_SX190_CR0,0,190,246_.jpg to /var/tmp/graphlab-bobcolner/30343/57bac1db-c39b-44bd-84d7-19d088c515f3.jpg"
      ]
     },
     "metadata": {},
     "output_type": "display_data"
    },
    {
     "data": {
      "text/html": [
       "<pre>Downloading http://ecx.images-amazon.com/images/I/31Erwn+yDZL._SL246_SX190_CR0,0,190,246_.jpg to /var/tmp/graphlab-bobcolner/30343/0f83a20c-4990-4f32-97d6-fc3dbd8ef1ca.jpg</pre>"
      ],
      "text/plain": [
       "Downloading http://ecx.images-amazon.com/images/I/31Erwn+yDZL._SL246_SX190_CR0,0,190,246_.jpg to /var/tmp/graphlab-bobcolner/30343/0f83a20c-4990-4f32-97d6-fc3dbd8ef1ca.jpg"
      ]
     },
     "metadata": {},
     "output_type": "display_data"
    },
    {
     "data": {
      "text/html": [
       "<pre>Downloading http://ecx.images-amazon.com/images/I/41ywBjKG9aL._SL246_SX190_CR0,0,190,246_.jpg to /var/tmp/graphlab-bobcolner/30343/ea6e6d32-6c8d-4ae3-a698-9987036e95f4.jpg</pre>"
      ],
      "text/plain": [
       "Downloading http://ecx.images-amazon.com/images/I/41ywBjKG9aL._SL246_SX190_CR0,0,190,246_.jpg to /var/tmp/graphlab-bobcolner/30343/ea6e6d32-6c8d-4ae3-a698-9987036e95f4.jpg"
      ]
     },
     "metadata": {},
     "output_type": "display_data"
    },
    {
     "data": {
      "text/html": [
       "<pre>Downloading http://ecx.images-amazon.com/images/I/41r-WO3OwnL._SL246_SX190_CR0,0,190,246_.jpg to /var/tmp/graphlab-bobcolner/30343/c0aa3ea3-778d-4261-9435-516dbda691ac.jpg</pre>"
      ],
      "text/plain": [
       "Downloading http://ecx.images-amazon.com/images/I/41r-WO3OwnL._SL246_SX190_CR0,0,190,246_.jpg to /var/tmp/graphlab-bobcolner/30343/c0aa3ea3-778d-4261-9435-516dbda691ac.jpg"
      ]
     },
     "metadata": {},
     "output_type": "display_data"
    },
    {
     "data": {
      "text/html": [
       "<pre>Downloading http://ecx.images-amazon.com/images/I/31neThnmxtL._SL246_SX190_CR0,0,190,246_.jpg to /var/tmp/graphlab-bobcolner/30343/4df9995b-4c13-4752-9394-aa615e977bbf.jpg</pre>"
      ],
      "text/plain": [
       "Downloading http://ecx.images-amazon.com/images/I/31neThnmxtL._SL246_SX190_CR0,0,190,246_.jpg to /var/tmp/graphlab-bobcolner/30343/4df9995b-4c13-4752-9394-aa615e977bbf.jpg"
      ]
     },
     "metadata": {},
     "output_type": "display_data"
    },
    {
     "data": {
      "text/html": [
       "<pre>Downloading http://ecx.images-amazon.com/images/I/41LvHnUC8fL._SL246_SX190_CR0,0,190,246_.jpg to /var/tmp/graphlab-bobcolner/30343/776f8fee-e54d-4b73-97c8-a8aec348c2bc.jpg</pre>"
      ],
      "text/plain": [
       "Downloading http://ecx.images-amazon.com/images/I/41LvHnUC8fL._SL246_SX190_CR0,0,190,246_.jpg to /var/tmp/graphlab-bobcolner/30343/776f8fee-e54d-4b73-97c8-a8aec348c2bc.jpg"
      ]
     },
     "metadata": {},
     "output_type": "display_data"
    },
    {
     "data": {
      "text/html": [
       "<pre>Downloading http://ecx.images-amazon.com/images/I/417okJo3K1L._SL246_SX190_CR0,0,190,246_.jpg to /var/tmp/graphlab-bobcolner/30343/75481f7e-f1d0-4a42-b4c9-698f1a13c14a.jpg</pre>"
      ],
      "text/plain": [
       "Downloading http://ecx.images-amazon.com/images/I/417okJo3K1L._SL246_SX190_CR0,0,190,246_.jpg to /var/tmp/graphlab-bobcolner/30343/75481f7e-f1d0-4a42-b4c9-698f1a13c14a.jpg"
      ]
     },
     "metadata": {},
     "output_type": "display_data"
    },
    {
     "data": {
      "text/html": [
       "<pre>Downloading http://ecx.images-amazon.com/images/I/312hGWn10pL._SL246_SX190_CR0,0,190,246_.jpg to /var/tmp/graphlab-bobcolner/30343/18662bb0-6207-4b4f-a0b3-d44d419a5ae5.jpg</pre>"
      ],
      "text/plain": [
       "Downloading http://ecx.images-amazon.com/images/I/312hGWn10pL._SL246_SX190_CR0,0,190,246_.jpg to /var/tmp/graphlab-bobcolner/30343/18662bb0-6207-4b4f-a0b3-d44d419a5ae5.jpg"
      ]
     },
     "metadata": {},
     "output_type": "display_data"
    },
    {
     "data": {
      "text/html": [
       "<pre>Downloading http://ecx.images-amazon.com/images/I/51o1w6AOPmL._SL246_SX190_CR0,0,190,246_.jpg to /var/tmp/graphlab-bobcolner/30343/91fc3cfb-6dd5-4b30-812b-496a8bc1a0bd.jpg</pre>"
      ],
      "text/plain": [
       "Downloading http://ecx.images-amazon.com/images/I/51o1w6AOPmL._SL246_SX190_CR0,0,190,246_.jpg to /var/tmp/graphlab-bobcolner/30343/91fc3cfb-6dd5-4b30-812b-496a8bc1a0bd.jpg"
      ]
     },
     "metadata": {},
     "output_type": "display_data"
    },
    {
     "data": {
      "text/html": [
       "<pre>Downloading http://ecx.images-amazon.com/images/I/41lVVMcd5eL._SL246_SX190_CR0,0,190,246_.jpg to /var/tmp/graphlab-bobcolner/30343/7e39c01e-7c4f-4a99-a18e-b75050698b38.jpg</pre>"
      ],
      "text/plain": [
       "Downloading http://ecx.images-amazon.com/images/I/41lVVMcd5eL._SL246_SX190_CR0,0,190,246_.jpg to /var/tmp/graphlab-bobcolner/30343/7e39c01e-7c4f-4a99-a18e-b75050698b38.jpg"
      ]
     },
     "metadata": {},
     "output_type": "display_data"
    },
    {
     "data": {
      "text/html": [
       "<pre>Downloading http://ecx.images-amazon.com/images/I/31DiSWgbk6L._SL246_SX190_CR0,0,190,246_.jpg to /var/tmp/graphlab-bobcolner/30343/210fc795-2fa9-4120-ac2e-2bdf9c4ada8c.jpg</pre>"
      ],
      "text/plain": [
       "Downloading http://ecx.images-amazon.com/images/I/31DiSWgbk6L._SL246_SX190_CR0,0,190,246_.jpg to /var/tmp/graphlab-bobcolner/30343/210fc795-2fa9-4120-ac2e-2bdf9c4ada8c.jpg"
      ]
     },
     "metadata": {},
     "output_type": "display_data"
    },
    {
     "data": {
      "text/html": [
       "<pre>Downloading http://ecx.images-amazon.com/images/I/41l+TtoHNlL._SL246_SX190_CR0,0,190,246_.jpg to /var/tmp/graphlab-bobcolner/30343/9c2ebd87-dc09-4201-9784-a95f0c8f04bb.jpg</pre>"
      ],
      "text/plain": [
       "Downloading http://ecx.images-amazon.com/images/I/41l+TtoHNlL._SL246_SX190_CR0,0,190,246_.jpg to /var/tmp/graphlab-bobcolner/30343/9c2ebd87-dc09-4201-9784-a95f0c8f04bb.jpg"
      ]
     },
     "metadata": {},
     "output_type": "display_data"
    },
    {
     "data": {
      "text/html": [
       "<pre>Downloading http://ecx.images-amazon.com/images/I/41bK2dPlhOL._SL246_SX190_CR0,0,190,246_.jpg to /var/tmp/graphlab-bobcolner/30343/18127f0e-570a-4186-afb0-35c6b49f2e82.jpg</pre>"
      ],
      "text/plain": [
       "Downloading http://ecx.images-amazon.com/images/I/41bK2dPlhOL._SL246_SX190_CR0,0,190,246_.jpg to /var/tmp/graphlab-bobcolner/30343/18127f0e-570a-4186-afb0-35c6b49f2e82.jpg"
      ]
     },
     "metadata": {},
     "output_type": "display_data"
    },
    {
     "data": {
      "text/html": [
       "<pre>Downloading http://ecx.images-amazon.com/images/I/41u6nENWz6L._SL246_SX190_CR0,0,190,246_.jpg to /var/tmp/graphlab-bobcolner/30343/4194037d-6575-4ade-9348-2dbee9b87f81.jpg</pre>"
      ],
      "text/plain": [
       "Downloading http://ecx.images-amazon.com/images/I/41u6nENWz6L._SL246_SX190_CR0,0,190,246_.jpg to /var/tmp/graphlab-bobcolner/30343/4194037d-6575-4ade-9348-2dbee9b87f81.jpg"
      ]
     },
     "metadata": {},
     "output_type": "display_data"
    },
    {
     "data": {
      "text/html": [
       "<pre>Downloading http://ecx.images-amazon.com/images/I/31fauvyPbZL._SL246_SX190_CR0,0,190,246_.jpg to /var/tmp/graphlab-bobcolner/30343/7e20b07e-b519-4a95-84da-02d3a6bc2c5f.jpg</pre>"
      ],
      "text/plain": [
       "Downloading http://ecx.images-amazon.com/images/I/31fauvyPbZL._SL246_SX190_CR0,0,190,246_.jpg to /var/tmp/graphlab-bobcolner/30343/7e20b07e-b519-4a95-84da-02d3a6bc2c5f.jpg"
      ]
     },
     "metadata": {},
     "output_type": "display_data"
    },
    {
     "data": {
      "text/html": [
       "<pre>Downloading http://ecx.images-amazon.com/images/I/31mf+FDhguL._SL246_SX190_CR0,0,190,246_.jpg to /var/tmp/graphlab-bobcolner/30343/c8a9ae06-fdc9-4eff-a2e9-78f50457b7e8.jpg</pre>"
      ],
      "text/plain": [
       "Downloading http://ecx.images-amazon.com/images/I/31mf+FDhguL._SL246_SX190_CR0,0,190,246_.jpg to /var/tmp/graphlab-bobcolner/30343/c8a9ae06-fdc9-4eff-a2e9-78f50457b7e8.jpg"
      ]
     },
     "metadata": {},
     "output_type": "display_data"
    },
    {
     "data": {
      "text/html": [
       "<pre>Downloading http://ecx.images-amazon.com/images/I/41CfLUcy7IL._SL246_SX190_CR0,0,190,246_.jpg to /var/tmp/graphlab-bobcolner/30343/cbb17c3b-0699-417a-83dc-2f4de4fc51ad.jpg</pre>"
      ],
      "text/plain": [
       "Downloading http://ecx.images-amazon.com/images/I/41CfLUcy7IL._SL246_SX190_CR0,0,190,246_.jpg to /var/tmp/graphlab-bobcolner/30343/cbb17c3b-0699-417a-83dc-2f4de4fc51ad.jpg"
      ]
     },
     "metadata": {},
     "output_type": "display_data"
    },
    {
     "data": {
      "text/html": [
       "<pre>Downloading http://ecx.images-amazon.com/images/I/416FgqihVTL._SL246_SX190_CR0,0,190,246_.jpg to /var/tmp/graphlab-bobcolner/30343/7bfb45b9-0285-414c-9cec-8c12fc2ac64d.jpg</pre>"
      ],
      "text/plain": [
       "Downloading http://ecx.images-amazon.com/images/I/416FgqihVTL._SL246_SX190_CR0,0,190,246_.jpg to /var/tmp/graphlab-bobcolner/30343/7bfb45b9-0285-414c-9cec-8c12fc2ac64d.jpg"
      ]
     },
     "metadata": {},
     "output_type": "display_data"
    },
    {
     "data": {
      "text/html": [
       "<pre>Downloading http://ecx.images-amazon.com/images/I/31LF+0G7EOL._SL246_SX190_CR0,0,190,246_.jpg to /var/tmp/graphlab-bobcolner/30343/505ed8c7-0e0b-4a4c-a3e0-3aa2e200bd25.jpg</pre>"
      ],
      "text/plain": [
       "Downloading http://ecx.images-amazon.com/images/I/31LF+0G7EOL._SL246_SX190_CR0,0,190,246_.jpg to /var/tmp/graphlab-bobcolner/30343/505ed8c7-0e0b-4a4c-a3e0-3aa2e200bd25.jpg"
      ]
     },
     "metadata": {},
     "output_type": "display_data"
    },
    {
     "data": {
      "text/html": [
       "<pre>Downloading http://ecx.images-amazon.com/images/I/41xr66fLU4L._SL246_SX190_CR0,0,190,246_.jpg to /var/tmp/graphlab-bobcolner/30343/05bf71bf-6403-41a5-8bac-57cfacd8d5fe.jpg</pre>"
      ],
      "text/plain": [
       "Downloading http://ecx.images-amazon.com/images/I/41xr66fLU4L._SL246_SX190_CR0,0,190,246_.jpg to /var/tmp/graphlab-bobcolner/30343/05bf71bf-6403-41a5-8bac-57cfacd8d5fe.jpg"
      ]
     },
     "metadata": {},
     "output_type": "display_data"
    },
    {
     "data": {
      "text/html": [
       "<pre>Downloading http://ecx.images-amazon.com/images/I/31oGACkY3mL._SL246_SX190_CR0,0,190,246_.jpg to /var/tmp/graphlab-bobcolner/30343/7939462a-e145-48f4-83df-8157522aab4c.jpg</pre>"
      ],
      "text/plain": [
       "Downloading http://ecx.images-amazon.com/images/I/31oGACkY3mL._SL246_SX190_CR0,0,190,246_.jpg to /var/tmp/graphlab-bobcolner/30343/7939462a-e145-48f4-83df-8157522aab4c.jpg"
      ]
     },
     "metadata": {},
     "output_type": "display_data"
    },
    {
     "data": {
      "text/html": [
       "<pre>Downloading http://ecx.images-amazon.com/images/I/419ygpAB6fL._SL246_SX190_CR0,0,190,246_.jpg to /var/tmp/graphlab-bobcolner/30343/5ded1dc3-5ff5-42ee-9cfe-0522e817241a.jpg</pre>"
      ],
      "text/plain": [
       "Downloading http://ecx.images-amazon.com/images/I/419ygpAB6fL._SL246_SX190_CR0,0,190,246_.jpg to /var/tmp/graphlab-bobcolner/30343/5ded1dc3-5ff5-42ee-9cfe-0522e817241a.jpg"
      ]
     },
     "metadata": {},
     "output_type": "display_data"
    },
    {
     "data": {
      "text/html": [
       "<pre>Downloading http://ecx.images-amazon.com/images/I/41j7nApfdEL._SL246_SX190_CR0,0,190,246_.jpg to /var/tmp/graphlab-bobcolner/30343/8b6593ad-950b-487d-b9bb-7d796d263157.jpg</pre>"
      ],
      "text/plain": [
       "Downloading http://ecx.images-amazon.com/images/I/41j7nApfdEL._SL246_SX190_CR0,0,190,246_.jpg to /var/tmp/graphlab-bobcolner/30343/8b6593ad-950b-487d-b9bb-7d796d263157.jpg"
      ]
     },
     "metadata": {},
     "output_type": "display_data"
    },
    {
     "data": {
      "text/html": [
       "<pre>Downloading http://ecx.images-amazon.com/images/I/41Y3BHOlCVL._SL246_SX190_CR0,0,190,246_.jpg to /var/tmp/graphlab-bobcolner/30343/c76815cf-8fc4-480d-a3d2-482bd2559f2a.jpg</pre>"
      ],
      "text/plain": [
       "Downloading http://ecx.images-amazon.com/images/I/41Y3BHOlCVL._SL246_SX190_CR0,0,190,246_.jpg to /var/tmp/graphlab-bobcolner/30343/c76815cf-8fc4-480d-a3d2-482bd2559f2a.jpg"
      ]
     },
     "metadata": {},
     "output_type": "display_data"
    },
    {
     "data": {
      "text/html": [
       "<pre>Downloading http://ecx.images-amazon.com/images/I/41MSPMdfhxL._SL246_SX190_CR0,0,190,246_.jpg to /var/tmp/graphlab-bobcolner/30343/766d3f81-8239-46c2-a1af-4b459b34ef55.jpg</pre>"
      ],
      "text/plain": [
       "Downloading http://ecx.images-amazon.com/images/I/41MSPMdfhxL._SL246_SX190_CR0,0,190,246_.jpg to /var/tmp/graphlab-bobcolner/30343/766d3f81-8239-46c2-a1af-4b459b34ef55.jpg"
      ]
     },
     "metadata": {},
     "output_type": "display_data"
    },
    {
     "data": {
      "text/html": [
       "<pre>Downloading http://ecx.images-amazon.com/images/I/31675g33bqL._SL246_SX190_CR0,0,190,246_.jpg to /var/tmp/graphlab-bobcolner/30343/00e0e6ca-e18d-437e-880f-f3c30799e357.jpg</pre>"
      ],
      "text/plain": [
       "Downloading http://ecx.images-amazon.com/images/I/31675g33bqL._SL246_SX190_CR0,0,190,246_.jpg to /var/tmp/graphlab-bobcolner/30343/00e0e6ca-e18d-437e-880f-f3c30799e357.jpg"
      ]
     },
     "metadata": {},
     "output_type": "display_data"
    },
    {
     "data": {
      "text/html": [
       "<pre>Downloading http://ecx.images-amazon.com/images/I/41tNG++6syL._SL246_SX190_CR0,0,190,246_.jpg to /var/tmp/graphlab-bobcolner/30343/3f3d7749-54de-4cdd-be63-b00951470133.jpg</pre>"
      ],
      "text/plain": [
       "Downloading http://ecx.images-amazon.com/images/I/41tNG++6syL._SL246_SX190_CR0,0,190,246_.jpg to /var/tmp/graphlab-bobcolner/30343/3f3d7749-54de-4cdd-be63-b00951470133.jpg"
      ]
     },
     "metadata": {},
     "output_type": "display_data"
    },
    {
     "data": {
      "text/html": [
       "<pre>Downloading http://ecx.images-amazon.com/images/I/41C9QmCzNPL._SL190_SY246_CR0,0,190,246_.jpg to /var/tmp/graphlab-bobcolner/30343/932855f9-751f-4309-9ddc-ed7642709c34.jpg</pre>"
      ],
      "text/plain": [
       "Downloading http://ecx.images-amazon.com/images/I/41C9QmCzNPL._SL190_SY246_CR0,0,190,246_.jpg to /var/tmp/graphlab-bobcolner/30343/932855f9-751f-4309-9ddc-ed7642709c34.jpg"
      ]
     },
     "metadata": {},
     "output_type": "display_data"
    },
    {
     "name": "stdout",
     "output_type": "stream",
     "text": [
      "This trial license of GraphLab Create is assigned to bcolner@gmail.com and will expire on April 09, 2016. Please contact trial@dato.com for licensing options or to request a free non-commercial license for personal or academic use.\n"
     ]
    },
    {
     "data": {
      "text/html": [
       "<div style=\"max-height:1000px;max-width:1500px;overflow:auto;\"><table frame=\"box\" rules=\"cols\">\n",
       "    <tr>\n",
       "        <th style=\"padding-left: 1em; padding-right: 1em; text-align: center\">image</th>\n",
       "    </tr>\n",
       "    <tr>\n",
       "        <td style=\"padding-left: 1em; padding-right: 1em; text-align: center; vertical-align: top\">Height: 256 Width: 256</td>\n",
       "    </tr>\n",
       "    <tr>\n",
       "        <td style=\"padding-left: 1em; padding-right: 1em; text-align: center; vertical-align: top\">Height: 256 Width: 256</td>\n",
       "    </tr>\n",
       "    <tr>\n",
       "        <td style=\"padding-left: 1em; padding-right: 1em; text-align: center; vertical-align: top\">Height: 256 Width: 256</td>\n",
       "    </tr>\n",
       "    <tr>\n",
       "        <td style=\"padding-left: 1em; padding-right: 1em; text-align: center; vertical-align: top\">Height: 256 Width: 256</td>\n",
       "    </tr>\n",
       "    <tr>\n",
       "        <td style=\"padding-left: 1em; padding-right: 1em; text-align: center; vertical-align: top\">Height: 256 Width: 256</td>\n",
       "    </tr>\n",
       "    <tr>\n",
       "        <td style=\"padding-left: 1em; padding-right: 1em; text-align: center; vertical-align: top\">Height: 256 Width: 256</td>\n",
       "    </tr>\n",
       "    <tr>\n",
       "        <td style=\"padding-left: 1em; padding-right: 1em; text-align: center; vertical-align: top\">Height: 256 Width: 256</td>\n",
       "    </tr>\n",
       "    <tr>\n",
       "        <td style=\"padding-left: 1em; padding-right: 1em; text-align: center; vertical-align: top\">Height: 256 Width: 256</td>\n",
       "    </tr>\n",
       "    <tr>\n",
       "        <td style=\"padding-left: 1em; padding-right: 1em; text-align: center; vertical-align: top\">Height: 256 Width: 256</td>\n",
       "    </tr>\n",
       "    <tr>\n",
       "        <td style=\"padding-left: 1em; padding-right: 1em; text-align: center; vertical-align: top\">Height: 256 Width: 256</td>\n",
       "    </tr>\n",
       "</table>\n",
       "[206 rows x 1 columns]<br/>Note: Only the head of the SFrame is printed.<br/>You can use print_rows(num_rows=m, num_columns=n) to print more rows and columns.\n",
       "</div>"
      ],
      "text/plain": [
       "Columns:\n",
       "\timage\tImage\n",
       "\n",
       "Rows: 206\n",
       "\n",
       "Data:\n",
       "+------------------------+\n",
       "|         image          |\n",
       "+------------------------+\n",
       "| Height: 256 Width: 256 |\n",
       "| Height: 256 Width: 256 |\n",
       "| Height: 256 Width: 256 |\n",
       "| Height: 256 Width: 256 |\n",
       "| Height: 256 Width: 256 |\n",
       "| Height: 256 Width: 256 |\n",
       "| Height: 256 Width: 256 |\n",
       "| Height: 256 Width: 256 |\n",
       "| Height: 256 Width: 256 |\n",
       "| Height: 256 Width: 256 |\n",
       "+------------------------+\n",
       "[206 rows x 1 columns]\n",
       "Note: Only the head of the SFrame is printed.\n",
       "You can use print_rows(num_rows=m, num_columns=n) to print more rows and columns."
      ]
     },
     "execution_count": 4,
     "metadata": {},
     "output_type": "execute_result"
    }
   ],
   "source": [
    "# convert df to list\n",
    "images_url_list = image_url_df['images.src'].tolist()\n",
    "# Construct SArry of urls\n",
    "url_sarray = graphlab.SArray(images_url_list)\n",
    "# Construct SArray of Images (may download images)\n",
    "image_sarray = url_sarray.apply(lambda x: graphlab.Image(x))\n",
    "# resize image to conform to imagenet model input\n",
    "resized_image_sarray = graphlab.image_analysis.resize(image_sarray, 256, 256, 3)\n",
    "# convert to sframe\n",
    "resized_image_sframe = graphlab.SFrame(data=resized_image_sarray)\n",
    "# rename colume\n",
    "resized_image_sframe.rename({'X1': 'image'})"
   ]
  },
  {
   "cell_type": "code",
   "execution_count": null,
   "metadata": {
    "collapsed": false
   },
   "outputs": [],
   "source": [
    "# show some images\n",
    "graphlab.canvas.set_target('ipynb')\n",
    "resized_image_sarray[1].show()"
   ]
  },
  {
   "cell_type": "code",
   "execution_count": 11,
   "metadata": {
    "collapsed": false,
    "scrolled": true
   },
   "outputs": [
    {
     "data": {
      "text/html": [
       "<pre>Downloading http://s3.amazonaws.com/dato-datasets/deeplearning/imagenet_model_iter45/dir_archive.ini to /var/tmp/graphlab-bobcolner/30343/8275c66d-2abb-474a-a7a5-b0ea25dc1f24.ini</pre>"
      ],
      "text/plain": [
       "Downloading http://s3.amazonaws.com/dato-datasets/deeplearning/imagenet_model_iter45/dir_archive.ini to /var/tmp/graphlab-bobcolner/30343/8275c66d-2abb-474a-a7a5-b0ea25dc1f24.ini"
      ]
     },
     "metadata": {},
     "output_type": "display_data"
    },
    {
     "data": {
      "text/html": [
       "<pre>Downloading http://s3.amazonaws.com/dato-datasets/deeplearning/imagenet_model_iter45/objects.bin to /var/tmp/graphlab-bobcolner/30343/67c81c0e-caf4-446c-8bf3-9cbbc397c0df.bin</pre>"
      ],
      "text/plain": [
       "Downloading http://s3.amazonaws.com/dato-datasets/deeplearning/imagenet_model_iter45/objects.bin to /var/tmp/graphlab-bobcolner/30343/67c81c0e-caf4-446c-8bf3-9cbbc397c0df.bin"
      ]
     },
     "metadata": {},
     "output_type": "display_data"
    }
   ],
   "source": [
    "# Aquire ImageNet Model\n",
    "\n",
    "# download pre-trained imagenet model\n",
    "pretrained_model = graphlab.load_model('http://s3.amazonaws.com/dato-datasets/deeplearning/imagenet_model_iter45')\n",
    "# save model\n",
    "# pretrained_model.save('pretrained_imagenet')\n",
    "# load pretrained imagenet model\n",
    "# pretrained_model = graphlab.load_model('pretrained_imagenet') "
   ]
  },
  {
   "cell_type": "code",
   "execution_count": 15,
   "metadata": {
    "collapsed": false
   },
   "outputs": [],
   "source": [
    "# extract high-level features for each image (this takes some time)\n",
    "resized_image_sframe['extracted_features'] = pretrained_model.extract_features(resized_image_sframe)"
   ]
  },
  {
   "cell_type": "code",
   "execution_count": 20,
   "metadata": {
    "collapsed": false
   },
   "outputs": [
    {
     "data": {
      "text/html": [
       "<pre>Starting brute force nearest neighbors model training.</pre>"
      ],
      "text/plain": [
       "Starting brute force nearest neighbors model training."
      ]
     },
     "metadata": {},
     "output_type": "display_data"
    },
    {
     "data": {
      "text/html": [
       "<pre>Starting blockwise querying.</pre>"
      ],
      "text/plain": [
       "Starting blockwise querying."
      ]
     },
     "metadata": {},
     "output_type": "display_data"
    },
    {
     "data": {
      "text/html": [
       "<pre>max rows per data block: 7668</pre>"
      ],
      "text/plain": [
       "max rows per data block: 7668"
      ]
     },
     "metadata": {},
     "output_type": "display_data"
    },
    {
     "data": {
      "text/html": [
       "<pre>number of reference data blocks: 4</pre>"
      ],
      "text/plain": [
       "number of reference data blocks: 4"
      ]
     },
     "metadata": {},
     "output_type": "display_data"
    },
    {
     "data": {
      "text/html": [
       "<pre>number of query data blocks: 1</pre>"
      ],
      "text/plain": [
       "number of query data blocks: 1"
      ]
     },
     "metadata": {},
     "output_type": "display_data"
    },
    {
     "data": {
      "text/html": [
       "<pre>+--------------+---------+-------------+--------------+</pre>"
      ],
      "text/plain": [
       "+--------------+---------+-------------+--------------+"
      ]
     },
     "metadata": {},
     "output_type": "display_data"
    },
    {
     "data": {
      "text/html": [
       "<pre>| Query points | # Pairs | % Complete. | Elapsed Time |</pre>"
      ],
      "text/plain": [
       "| Query points | # Pairs | % Complete. | Elapsed Time |"
      ]
     },
     "metadata": {},
     "output_type": "display_data"
    },
    {
     "data": {
      "text/html": [
       "<pre>+--------------+---------+-------------+--------------+</pre>"
      ],
      "text/plain": [
       "+--------------+---------+-------------+--------------+"
      ]
     },
     "metadata": {},
     "output_type": "display_data"
    },
    {
     "data": {
      "text/html": [
       "<pre>| 206          | 10712   | 25.2427     | 140.829ms    |</pre>"
      ],
      "text/plain": [
       "| 206          | 10712   | 25.2427     | 140.829ms    |"
      ]
     },
     "metadata": {},
     "output_type": "display_data"
    },
    {
     "data": {
      "text/html": [
       "<pre>| Done         | 42436   | 100         | 156.42ms     |</pre>"
      ],
      "text/plain": [
       "| Done         | 42436   | 100         | 156.42ms     |"
      ]
     },
     "metadata": {},
     "output_type": "display_data"
    },
    {
     "data": {
      "text/html": [
       "<pre>+--------------+---------+-------------+--------------+</pre>"
      ],
      "text/plain": [
       "+--------------+---------+-------------+--------------+"
      ]
     },
     "metadata": {},
     "output_type": "display_data"
    }
   ],
   "source": [
    "# build nearest_neighbor_model for image features\n",
    "nearest_neighbor_model = graphlab.nearest_neighbors.create(resized_image_sframe, features=['extracted_features'])\n",
    "# apply NN model to image featres\n",
    "similar_images = nearest_neighbor_model.query(resized_image_sframe, k = 4)\n",
    "# remove self-similarity\n",
    "similar_images = similar_images[similar_images['query_label'] != similar_images['reference_label']]"
   ]
  },
  {
   "cell_type": "code",
   "execution_count": 10,
   "metadata": {
    "collapsed": true
   },
   "outputs": [],
   "source": [
    "# save images\n",
    "resized_image_sframe.save('amazon_image_images')\n",
    "# save similarity rank to file\n",
    "similar_images.export_csv('amazon_image_sim.csv')"
   ]
  }
 ],
 "metadata": {
  "kernelspec": {
   "display_name": "Python 2",
   "language": "python",
   "name": "python2"
  },
  "language_info": {
   "codemirror_mode": {
    "name": "ipython",
    "version": 2
   },
   "file_extension": ".py",
   "mimetype": "text/x-python",
   "name": "python",
   "nbconvert_exporter": "python",
   "pygments_lexer": "ipython2",
   "version": "2.7.10"
  }
 },
 "nbformat": 4,
 "nbformat_minor": 0
}
